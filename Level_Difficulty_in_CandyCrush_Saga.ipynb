{
  "nbformat": 4,
  "nbformat_minor": 0,
  "metadata": {
    "colab": {
      "name": "Level Difficulty in CandyCrush Saga.ipynb",
      "provenance": [],
      "collapsed_sections": [],
      "toc_visible": true,
      "authorship_tag": "ABX9TyMovZ6tFaGpZ0WFDrgNDRCj",
      "include_colab_link": true
    },
    "kernelspec": {
      "name": "python3",
      "display_name": "Python 3"
    }
  },
  "cells": [
    {
      "cell_type": "markdown",
      "metadata": {
        "id": "view-in-github",
        "colab_type": "text"
      },
      "source": [
        "<a href=\"https://colab.research.google.com/github/swarnimam/ML_junk/blob/master/Level_Difficulty_in_CandyCrush_Saga.ipynb\" target=\"_parent\"><img src=\"https://colab.research.google.com/assets/colab-badge.svg\" alt=\"Open In Colab\"/></a>"
      ]
    },
    {
      "cell_type": "markdown",
      "metadata": {
        "id": "OWQrit0D8ExT",
        "colab_type": "text"
      },
      "source": [
        "CandyCrush"
      ]
    },
    {
      "cell_type": "code",
      "metadata": {
        "id": "D4c1NEIm8GYa",
        "colab_type": "code",
        "colab": {}
      },
      "source": [
        "import pandas as pd\n",
        "import numpy as np\n",
        "from matplotlib import *\n",
        "import math"
      ],
      "execution_count": 0,
      "outputs": []
    },
    {
      "cell_type": "code",
      "metadata": {
        "id": "IeRXARl1DXph",
        "colab_type": "code",
        "outputId": "42f0bf3c-5ab1-43a4-dc71-955e7867f018",
        "colab": {
          "base_uri": "https://localhost:8080/",
          "height": 204
        }
      },
      "source": [
        "data=pd.read_csv(\"/content/candy_crush.csv\")\n",
        "data.head()"
      ],
      "execution_count": 6,
      "outputs": [
        {
          "output_type": "execute_result",
          "data": {
            "text/html": [
              "<div>\n",
              "<style scoped>\n",
              "    .dataframe tbody tr th:only-of-type {\n",
              "        vertical-align: middle;\n",
              "    }\n",
              "\n",
              "    .dataframe tbody tr th {\n",
              "        vertical-align: top;\n",
              "    }\n",
              "\n",
              "    .dataframe thead th {\n",
              "        text-align: right;\n",
              "    }\n",
              "</style>\n",
              "<table border=\"1\" class=\"dataframe\">\n",
              "  <thead>\n",
              "    <tr style=\"text-align: right;\">\n",
              "      <th></th>\n",
              "      <th>player_id</th>\n",
              "      <th>dt</th>\n",
              "      <th>level</th>\n",
              "      <th>num_attempts</th>\n",
              "      <th>num_success</th>\n",
              "    </tr>\n",
              "  </thead>\n",
              "  <tbody>\n",
              "    <tr>\n",
              "      <th>0</th>\n",
              "      <td>6dd5af4c7228fa353d505767143f5815</td>\n",
              "      <td>2014-01-04</td>\n",
              "      <td>4</td>\n",
              "      <td>3</td>\n",
              "      <td>1</td>\n",
              "    </tr>\n",
              "    <tr>\n",
              "      <th>1</th>\n",
              "      <td>c7ec97c39349ab7e4d39b4f74062ec13</td>\n",
              "      <td>2014-01-01</td>\n",
              "      <td>8</td>\n",
              "      <td>4</td>\n",
              "      <td>1</td>\n",
              "    </tr>\n",
              "    <tr>\n",
              "      <th>2</th>\n",
              "      <td>c7ec97c39349ab7e4d39b4f74062ec13</td>\n",
              "      <td>2014-01-05</td>\n",
              "      <td>12</td>\n",
              "      <td>6</td>\n",
              "      <td>0</td>\n",
              "    </tr>\n",
              "    <tr>\n",
              "      <th>3</th>\n",
              "      <td>a32c5e9700ed356dc8dd5bb3230c5227</td>\n",
              "      <td>2014-01-03</td>\n",
              "      <td>11</td>\n",
              "      <td>1</td>\n",
              "      <td>1</td>\n",
              "    </tr>\n",
              "    <tr>\n",
              "      <th>4</th>\n",
              "      <td>a32c5e9700ed356dc8dd5bb3230c5227</td>\n",
              "      <td>2014-01-07</td>\n",
              "      <td>15</td>\n",
              "      <td>6</td>\n",
              "      <td>0</td>\n",
              "    </tr>\n",
              "  </tbody>\n",
              "</table>\n",
              "</div>"
            ],
            "text/plain": [
              "                          player_id          dt  ...  num_attempts  num_success\n",
              "0  6dd5af4c7228fa353d505767143f5815  2014-01-04  ...             3            1\n",
              "1  c7ec97c39349ab7e4d39b4f74062ec13  2014-01-01  ...             4            1\n",
              "2  c7ec97c39349ab7e4d39b4f74062ec13  2014-01-05  ...             6            0\n",
              "3  a32c5e9700ed356dc8dd5bb3230c5227  2014-01-03  ...             1            1\n",
              "4  a32c5e9700ed356dc8dd5bb3230c5227  2014-01-07  ...             6            0\n",
              "\n",
              "[5 rows x 5 columns]"
            ]
          },
          "metadata": {
            "tags": []
          },
          "execution_count": 6
        }
      ]
    },
    {
      "cell_type": "code",
      "metadata": {
        "id": "xFTJ8m0R0KwE",
        "colab_type": "code",
        "outputId": "3464d97a-7d7e-4167-a5ef-edc64dc4bda9",
        "colab": {
          "base_uri": "https://localhost:8080/",
          "height": 221
        }
      },
      "source": [
        "data['dt']"
      ],
      "execution_count": 7,
      "outputs": [
        {
          "output_type": "execute_result",
          "data": {
            "text/plain": [
              "0        2014-01-04\n",
              "1        2014-01-01\n",
              "2        2014-01-05\n",
              "3        2014-01-03\n",
              "4        2014-01-07\n",
              "            ...    \n",
              "16860    2014-01-07\n",
              "16861    2014-01-01\n",
              "16862    2014-01-01\n",
              "16863    2014-01-06\n",
              "16864    2014-01-01\n",
              "Name: dt, Length: 16865, dtype: object"
            ]
          },
          "metadata": {
            "tags": []
          },
          "execution_count": 7
        }
      ]
    },
    {
      "cell_type": "code",
      "metadata": {
        "id": "i6-diPPy2nOv",
        "colab_type": "code",
        "outputId": "a3a4f5ed-6b18-45c8-a68f-2adcecc1abdc",
        "colab": {
          "base_uri": "https://localhost:8080/",
          "height": 34
        }
      },
      "source": [
        "min(data['dt'])"
      ],
      "execution_count": 8,
      "outputs": [
        {
          "output_type": "execute_result",
          "data": {
            "text/plain": [
              "'2014-01-01'"
            ]
          },
          "metadata": {
            "tags": []
          },
          "execution_count": 8
        }
      ]
    },
    {
      "cell_type": "code",
      "metadata": {
        "id": "MG3J6ciM2rDF",
        "colab_type": "code",
        "outputId": "5d7a91d8-e1cd-47d8-ee67-2700aa18ca13",
        "colab": {
          "base_uri": "https://localhost:8080/",
          "height": 34
        }
      },
      "source": [
        "max(data['dt'])"
      ],
      "execution_count": 9,
      "outputs": [
        {
          "output_type": "execute_result",
          "data": {
            "text/plain": [
              "'2014-01-07'"
            ]
          },
          "metadata": {
            "tags": []
          },
          "execution_count": 9
        }
      ]
    },
    {
      "cell_type": "code",
      "metadata": {
        "id": "VUPcz_H42tcv",
        "colab_type": "code",
        "colab": {}
      },
      "source": [
        "days=7"
      ],
      "execution_count": 0,
      "outputs": []
    },
    {
      "cell_type": "code",
      "metadata": {
        "id": "N8HNQvcB26Hz",
        "colab_type": "code",
        "colab": {}
      },
      "source": [
        "players=len(pd.unique(data['player_id']))"
      ],
      "execution_count": 0,
      "outputs": []
    },
    {
      "cell_type": "code",
      "metadata": {
        "id": "KvjCE8nP4XoU",
        "colab_type": "code",
        "outputId": "7c4d6a6e-8bd4-4737-ce50-375b9321b0fb",
        "colab": {
          "base_uri": "https://localhost:8080/",
          "height": 545
        }
      },
      "source": [
        "df=data.groupby('level').sum()\n",
        "df"
      ],
      "execution_count": 12,
      "outputs": [
        {
          "output_type": "execute_result",
          "data": {
            "text/html": [
              "<div>\n",
              "<style scoped>\n",
              "    .dataframe tbody tr th:only-of-type {\n",
              "        vertical-align: middle;\n",
              "    }\n",
              "\n",
              "    .dataframe tbody tr th {\n",
              "        vertical-align: top;\n",
              "    }\n",
              "\n",
              "    .dataframe thead th {\n",
              "        text-align: right;\n",
              "    }\n",
              "</style>\n",
              "<table border=\"1\" class=\"dataframe\">\n",
              "  <thead>\n",
              "    <tr style=\"text-align: right;\">\n",
              "      <th></th>\n",
              "      <th>num_attempts</th>\n",
              "      <th>num_success</th>\n",
              "    </tr>\n",
              "    <tr>\n",
              "      <th>level</th>\n",
              "      <th></th>\n",
              "      <th></th>\n",
              "    </tr>\n",
              "  </thead>\n",
              "  <tbody>\n",
              "    <tr>\n",
              "      <th>1</th>\n",
              "      <td>1322</td>\n",
              "      <td>818</td>\n",
              "    </tr>\n",
              "    <tr>\n",
              "      <th>2</th>\n",
              "      <td>1285</td>\n",
              "      <td>666</td>\n",
              "    </tr>\n",
              "    <tr>\n",
              "      <th>3</th>\n",
              "      <td>1546</td>\n",
              "      <td>662</td>\n",
              "    </tr>\n",
              "    <tr>\n",
              "      <th>4</th>\n",
              "      <td>1893</td>\n",
              "      <td>705</td>\n",
              "    </tr>\n",
              "    <tr>\n",
              "      <th>5</th>\n",
              "      <td>6937</td>\n",
              "      <td>634</td>\n",
              "    </tr>\n",
              "    <tr>\n",
              "      <th>6</th>\n",
              "      <td>1591</td>\n",
              "      <td>668</td>\n",
              "    </tr>\n",
              "    <tr>\n",
              "      <th>7</th>\n",
              "      <td>4526</td>\n",
              "      <td>614</td>\n",
              "    </tr>\n",
              "    <tr>\n",
              "      <th>8</th>\n",
              "      <td>15816</td>\n",
              "      <td>641</td>\n",
              "    </tr>\n",
              "    <tr>\n",
              "      <th>9</th>\n",
              "      <td>8241</td>\n",
              "      <td>670</td>\n",
              "    </tr>\n",
              "    <tr>\n",
              "      <th>10</th>\n",
              "      <td>3282</td>\n",
              "      <td>617</td>\n",
              "    </tr>\n",
              "    <tr>\n",
              "      <th>11</th>\n",
              "      <td>5575</td>\n",
              "      <td>603</td>\n",
              "    </tr>\n",
              "    <tr>\n",
              "      <th>12</th>\n",
              "      <td>6868</td>\n",
              "      <td>659</td>\n",
              "    </tr>\n",
              "    <tr>\n",
              "      <th>13</th>\n",
              "      <td>1327</td>\n",
              "      <td>686</td>\n",
              "    </tr>\n",
              "    <tr>\n",
              "      <th>14</th>\n",
              "      <td>2772</td>\n",
              "      <td>777</td>\n",
              "    </tr>\n",
              "    <tr>\n",
              "      <th>15</th>\n",
              "      <td>30374</td>\n",
              "      <td>1157</td>\n",
              "    </tr>\n",
              "  </tbody>\n",
              "</table>\n",
              "</div>"
            ],
            "text/plain": [
              "       num_attempts  num_success\n",
              "level                           \n",
              "1              1322          818\n",
              "2              1285          666\n",
              "3              1546          662\n",
              "4              1893          705\n",
              "5              6937          634\n",
              "6              1591          668\n",
              "7              4526          614\n",
              "8             15816          641\n",
              "9              8241          670\n",
              "10             3282          617\n",
              "11             5575          603\n",
              "12             6868          659\n",
              "13             1327          686\n",
              "14             2772          777\n",
              "15            30374         1157"
            ]
          },
          "metadata": {
            "tags": []
          },
          "execution_count": 12
        }
      ]
    },
    {
      "cell_type": "code",
      "metadata": {
        "id": "hgFrUGQR5ntN",
        "colab_type": "code",
        "outputId": "e12ae6a6-fa70-40a0-8a51-29cc80391ca7",
        "colab": {
          "base_uri": "https://localhost:8080/",
          "height": 545
        }
      },
      "source": [
        "df['pro']=(df['num_success']/df['num_attempts'])*100\n",
        "df"
      ],
      "execution_count": 13,
      "outputs": [
        {
          "output_type": "execute_result",
          "data": {
            "text/html": [
              "<div>\n",
              "<style scoped>\n",
              "    .dataframe tbody tr th:only-of-type {\n",
              "        vertical-align: middle;\n",
              "    }\n",
              "\n",
              "    .dataframe tbody tr th {\n",
              "        vertical-align: top;\n",
              "    }\n",
              "\n",
              "    .dataframe thead th {\n",
              "        text-align: right;\n",
              "    }\n",
              "</style>\n",
              "<table border=\"1\" class=\"dataframe\">\n",
              "  <thead>\n",
              "    <tr style=\"text-align: right;\">\n",
              "      <th></th>\n",
              "      <th>num_attempts</th>\n",
              "      <th>num_success</th>\n",
              "      <th>pro</th>\n",
              "    </tr>\n",
              "    <tr>\n",
              "      <th>level</th>\n",
              "      <th></th>\n",
              "      <th></th>\n",
              "      <th></th>\n",
              "    </tr>\n",
              "  </thead>\n",
              "  <tbody>\n",
              "    <tr>\n",
              "      <th>1</th>\n",
              "      <td>1322</td>\n",
              "      <td>818</td>\n",
              "      <td>61.875946</td>\n",
              "    </tr>\n",
              "    <tr>\n",
              "      <th>2</th>\n",
              "      <td>1285</td>\n",
              "      <td>666</td>\n",
              "      <td>51.828794</td>\n",
              "    </tr>\n",
              "    <tr>\n",
              "      <th>3</th>\n",
              "      <td>1546</td>\n",
              "      <td>662</td>\n",
              "      <td>42.820181</td>\n",
              "    </tr>\n",
              "    <tr>\n",
              "      <th>4</th>\n",
              "      <td>1893</td>\n",
              "      <td>705</td>\n",
              "      <td>37.242472</td>\n",
              "    </tr>\n",
              "    <tr>\n",
              "      <th>5</th>\n",
              "      <td>6937</td>\n",
              "      <td>634</td>\n",
              "      <td>9.139397</td>\n",
              "    </tr>\n",
              "    <tr>\n",
              "      <th>6</th>\n",
              "      <td>1591</td>\n",
              "      <td>668</td>\n",
              "      <td>41.986172</td>\n",
              "    </tr>\n",
              "    <tr>\n",
              "      <th>7</th>\n",
              "      <td>4526</td>\n",
              "      <td>614</td>\n",
              "      <td>13.566063</td>\n",
              "    </tr>\n",
              "    <tr>\n",
              "      <th>8</th>\n",
              "      <td>15816</td>\n",
              "      <td>641</td>\n",
              "      <td>4.052858</td>\n",
              "    </tr>\n",
              "    <tr>\n",
              "      <th>9</th>\n",
              "      <td>8241</td>\n",
              "      <td>670</td>\n",
              "      <td>8.130081</td>\n",
              "    </tr>\n",
              "    <tr>\n",
              "      <th>10</th>\n",
              "      <td>3282</td>\n",
              "      <td>617</td>\n",
              "      <td>18.799512</td>\n",
              "    </tr>\n",
              "    <tr>\n",
              "      <th>11</th>\n",
              "      <td>5575</td>\n",
              "      <td>603</td>\n",
              "      <td>10.816143</td>\n",
              "    </tr>\n",
              "    <tr>\n",
              "      <th>12</th>\n",
              "      <td>6868</td>\n",
              "      <td>659</td>\n",
              "      <td>9.595224</td>\n",
              "    </tr>\n",
              "    <tr>\n",
              "      <th>13</th>\n",
              "      <td>1327</td>\n",
              "      <td>686</td>\n",
              "      <td>51.695554</td>\n",
              "    </tr>\n",
              "    <tr>\n",
              "      <th>14</th>\n",
              "      <td>2772</td>\n",
              "      <td>777</td>\n",
              "      <td>28.030303</td>\n",
              "    </tr>\n",
              "    <tr>\n",
              "      <th>15</th>\n",
              "      <td>30374</td>\n",
              "      <td>1157</td>\n",
              "      <td>3.809179</td>\n",
              "    </tr>\n",
              "  </tbody>\n",
              "</table>\n",
              "</div>"
            ],
            "text/plain": [
              "       num_attempts  num_success        pro\n",
              "level                                      \n",
              "1              1322          818  61.875946\n",
              "2              1285          666  51.828794\n",
              "3              1546          662  42.820181\n",
              "4              1893          705  37.242472\n",
              "5              6937          634   9.139397\n",
              "6              1591          668  41.986172\n",
              "7              4526          614  13.566063\n",
              "8             15816          641   4.052858\n",
              "9              8241          670   8.130081\n",
              "10             3282          617  18.799512\n",
              "11             5575          603  10.816143\n",
              "12             6868          659   9.595224\n",
              "13             1327          686  51.695554\n",
              "14             2772          777  28.030303\n",
              "15            30374         1157   3.809179"
            ]
          },
          "metadata": {
            "tags": []
          },
          "execution_count": 13
        }
      ]
    },
    {
      "cell_type": "code",
      "metadata": {
        "id": "U7-Kd3gy95z_",
        "colab_type": "code",
        "outputId": "19469d9e-2348-4c82-a8c4-a0d939b115d9",
        "colab": {
          "base_uri": "https://localhost:8080/",
          "height": 545
        }
      },
      "source": [
        "df['level']=[1,2,3,4,5,6,7,8,9,10,11,12,13,14,15]\n",
        "df"
      ],
      "execution_count": 14,
      "outputs": [
        {
          "output_type": "execute_result",
          "data": {
            "text/html": [
              "<div>\n",
              "<style scoped>\n",
              "    .dataframe tbody tr th:only-of-type {\n",
              "        vertical-align: middle;\n",
              "    }\n",
              "\n",
              "    .dataframe tbody tr th {\n",
              "        vertical-align: top;\n",
              "    }\n",
              "\n",
              "    .dataframe thead th {\n",
              "        text-align: right;\n",
              "    }\n",
              "</style>\n",
              "<table border=\"1\" class=\"dataframe\">\n",
              "  <thead>\n",
              "    <tr style=\"text-align: right;\">\n",
              "      <th></th>\n",
              "      <th>num_attempts</th>\n",
              "      <th>num_success</th>\n",
              "      <th>pro</th>\n",
              "      <th>level</th>\n",
              "    </tr>\n",
              "    <tr>\n",
              "      <th>level</th>\n",
              "      <th></th>\n",
              "      <th></th>\n",
              "      <th></th>\n",
              "      <th></th>\n",
              "    </tr>\n",
              "  </thead>\n",
              "  <tbody>\n",
              "    <tr>\n",
              "      <th>1</th>\n",
              "      <td>1322</td>\n",
              "      <td>818</td>\n",
              "      <td>61.875946</td>\n",
              "      <td>1</td>\n",
              "    </tr>\n",
              "    <tr>\n",
              "      <th>2</th>\n",
              "      <td>1285</td>\n",
              "      <td>666</td>\n",
              "      <td>51.828794</td>\n",
              "      <td>2</td>\n",
              "    </tr>\n",
              "    <tr>\n",
              "      <th>3</th>\n",
              "      <td>1546</td>\n",
              "      <td>662</td>\n",
              "      <td>42.820181</td>\n",
              "      <td>3</td>\n",
              "    </tr>\n",
              "    <tr>\n",
              "      <th>4</th>\n",
              "      <td>1893</td>\n",
              "      <td>705</td>\n",
              "      <td>37.242472</td>\n",
              "      <td>4</td>\n",
              "    </tr>\n",
              "    <tr>\n",
              "      <th>5</th>\n",
              "      <td>6937</td>\n",
              "      <td>634</td>\n",
              "      <td>9.139397</td>\n",
              "      <td>5</td>\n",
              "    </tr>\n",
              "    <tr>\n",
              "      <th>6</th>\n",
              "      <td>1591</td>\n",
              "      <td>668</td>\n",
              "      <td>41.986172</td>\n",
              "      <td>6</td>\n",
              "    </tr>\n",
              "    <tr>\n",
              "      <th>7</th>\n",
              "      <td>4526</td>\n",
              "      <td>614</td>\n",
              "      <td>13.566063</td>\n",
              "      <td>7</td>\n",
              "    </tr>\n",
              "    <tr>\n",
              "      <th>8</th>\n",
              "      <td>15816</td>\n",
              "      <td>641</td>\n",
              "      <td>4.052858</td>\n",
              "      <td>8</td>\n",
              "    </tr>\n",
              "    <tr>\n",
              "      <th>9</th>\n",
              "      <td>8241</td>\n",
              "      <td>670</td>\n",
              "      <td>8.130081</td>\n",
              "      <td>9</td>\n",
              "    </tr>\n",
              "    <tr>\n",
              "      <th>10</th>\n",
              "      <td>3282</td>\n",
              "      <td>617</td>\n",
              "      <td>18.799512</td>\n",
              "      <td>10</td>\n",
              "    </tr>\n",
              "    <tr>\n",
              "      <th>11</th>\n",
              "      <td>5575</td>\n",
              "      <td>603</td>\n",
              "      <td>10.816143</td>\n",
              "      <td>11</td>\n",
              "    </tr>\n",
              "    <tr>\n",
              "      <th>12</th>\n",
              "      <td>6868</td>\n",
              "      <td>659</td>\n",
              "      <td>9.595224</td>\n",
              "      <td>12</td>\n",
              "    </tr>\n",
              "    <tr>\n",
              "      <th>13</th>\n",
              "      <td>1327</td>\n",
              "      <td>686</td>\n",
              "      <td>51.695554</td>\n",
              "      <td>13</td>\n",
              "    </tr>\n",
              "    <tr>\n",
              "      <th>14</th>\n",
              "      <td>2772</td>\n",
              "      <td>777</td>\n",
              "      <td>28.030303</td>\n",
              "      <td>14</td>\n",
              "    </tr>\n",
              "    <tr>\n",
              "      <th>15</th>\n",
              "      <td>30374</td>\n",
              "      <td>1157</td>\n",
              "      <td>3.809179</td>\n",
              "      <td>15</td>\n",
              "    </tr>\n",
              "  </tbody>\n",
              "</table>\n",
              "</div>"
            ],
            "text/plain": [
              "       num_attempts  num_success        pro  level\n",
              "level                                             \n",
              "1              1322          818  61.875946      1\n",
              "2              1285          666  51.828794      2\n",
              "3              1546          662  42.820181      3\n",
              "4              1893          705  37.242472      4\n",
              "5              6937          634   9.139397      5\n",
              "6              1591          668  41.986172      6\n",
              "7              4526          614  13.566063      7\n",
              "8             15816          641   4.052858      8\n",
              "9              8241          670   8.130081      9\n",
              "10             3282          617  18.799512     10\n",
              "11             5575          603  10.816143     11\n",
              "12             6868          659   9.595224     12\n",
              "13             1327          686  51.695554     13\n",
              "14             2772          777  28.030303     14\n",
              "15            30374         1157   3.809179     15"
            ]
          },
          "metadata": {
            "tags": []
          },
          "execution_count": 14
        }
      ]
    },
    {
      "cell_type": "code",
      "metadata": {
        "id": "DhFsUqLS6HWZ",
        "colab_type": "code",
        "outputId": "aee066e2-fedf-4d16-ed09-e3258cfa9ade",
        "colab": {
          "base_uri": "https://localhost:8080/",
          "height": 295
        }
      },
      "source": [
        "import matplotlib.pyplot as plt\n",
        "plt.title('Winning Probability')\n",
        "plt.xlabel('Levels')\n",
        "plt.ylabel('Probability for Success')\n",
        "plt.plot(df['level'],df['pro'])\n",
        "plt.hlines(10,0,15,colors='red',linestyles='dashed')\n",
        "plt.show()"
      ],
      "execution_count": 15,
      "outputs": [
        {
          "output_type": "display_data",
          "data": {
            "image/png": "[encoded data removed]",
            "text/plain": [
              "<Figure size 432x288 with 1 Axes>"
            ]
          },
          "metadata": {
            "tags": [],
            "needs_background": "light"
          }
        }
      ]
    },
    {
      "cell_type": "code",
      "metadata": {
        "id": "mbM9uWQoHPK0",
        "colab_type": "code",
        "outputId": "815131ec-987a-47b8-b56b-989f1d5e2319",
        "colab": {
          "base_uri": "https://localhost:8080/",
          "height": 630
        }
      },
      "source": [
        "df['error']=((df['pro']/100.0)*(1.0-(df['pro']/100.0)))/df['num_attempts']\n",
        "for i in range(1,16):\n",
        "  df['error'][i]=math.sqrt(df['error'][i])\n",
        "df"
      ],
      "execution_count": 16,
      "outputs": [
        {
          "output_type": "stream",
          "text": [
            "/usr/local/lib/python3.6/dist-packages/ipykernel_launcher.py:3: SettingWithCopyWarning: \n",
            "A value is trying to be set on a copy of a slice from a DataFrame\n",
            "\n",
            "See the caveats in the documentation: https://pandas.pydata.org/pandas-docs/stable/user_guide/indexing.html#returning-a-view-versus-a-copy\n",
            "  This is separate from the ipykernel package so we can avoid doing imports until\n"
          ],
          "name": "stderr"
        },
        {
          "output_type": "execute_result",
          "data": {
            "text/html": [
              "<div>\n",
              "<style scoped>\n",
              "    .dataframe tbody tr th:only-of-type {\n",
              "        vertical-align: middle;\n",
              "    }\n",
              "\n",
              "    .dataframe tbody tr th {\n",
              "        vertical-align: top;\n",
              "    }\n",
              "\n",
              "    .dataframe thead th {\n",
              "        text-align: right;\n",
              "    }\n",
              "</style>\n",
              "<table border=\"1\" class=\"dataframe\">\n",
              "  <thead>\n",
              "    <tr style=\"text-align: right;\">\n",
              "      <th></th>\n",
              "      <th>num_attempts</th>\n",
              "      <th>num_success</th>\n",
              "      <th>pro</th>\n",
              "      <th>level</th>\n",
              "      <th>error</th>\n",
              "    </tr>\n",
              "    <tr>\n",
              "      <th>level</th>\n",
              "      <th></th>\n",
              "      <th></th>\n",
              "      <th></th>\n",
              "      <th></th>\n",
              "      <th></th>\n",
              "    </tr>\n",
              "  </thead>\n",
              "  <tbody>\n",
              "    <tr>\n",
              "      <th>1</th>\n",
              "      <td>1322</td>\n",
              "      <td>818</td>\n",
              "      <td>61.875946</td>\n",
              "      <td>1</td>\n",
              "      <td>0.013358</td>\n",
              "    </tr>\n",
              "    <tr>\n",
              "      <th>2</th>\n",
              "      <td>1285</td>\n",
              "      <td>666</td>\n",
              "      <td>51.828794</td>\n",
              "      <td>2</td>\n",
              "      <td>0.013939</td>\n",
              "    </tr>\n",
              "    <tr>\n",
              "      <th>3</th>\n",
              "      <td>1546</td>\n",
              "      <td>662</td>\n",
              "      <td>42.820181</td>\n",
              "      <td>3</td>\n",
              "      <td>0.012585</td>\n",
              "    </tr>\n",
              "    <tr>\n",
              "      <th>4</th>\n",
              "      <td>1893</td>\n",
              "      <td>705</td>\n",
              "      <td>37.242472</td>\n",
              "      <td>4</td>\n",
              "      <td>0.011112</td>\n",
              "    </tr>\n",
              "    <tr>\n",
              "      <th>5</th>\n",
              "      <td>6937</td>\n",
              "      <td>634</td>\n",
              "      <td>9.139397</td>\n",
              "      <td>5</td>\n",
              "      <td>0.003460</td>\n",
              "    </tr>\n",
              "    <tr>\n",
              "      <th>6</th>\n",
              "      <td>1591</td>\n",
              "      <td>668</td>\n",
              "      <td>41.986172</td>\n",
              "      <td>6</td>\n",
              "      <td>0.012373</td>\n",
              "    </tr>\n",
              "    <tr>\n",
              "      <th>7</th>\n",
              "      <td>4526</td>\n",
              "      <td>614</td>\n",
              "      <td>13.566063</td>\n",
              "      <td>7</td>\n",
              "      <td>0.005090</td>\n",
              "    </tr>\n",
              "    <tr>\n",
              "      <th>8</th>\n",
              "      <td>15816</td>\n",
              "      <td>641</td>\n",
              "      <td>4.052858</td>\n",
              "      <td>8</td>\n",
              "      <td>0.001568</td>\n",
              "    </tr>\n",
              "    <tr>\n",
              "      <th>9</th>\n",
              "      <td>8241</td>\n",
              "      <td>670</td>\n",
              "      <td>8.130081</td>\n",
              "      <td>9</td>\n",
              "      <td>0.003011</td>\n",
              "    </tr>\n",
              "    <tr>\n",
              "      <th>10</th>\n",
              "      <td>3282</td>\n",
              "      <td>617</td>\n",
              "      <td>18.799512</td>\n",
              "      <td>10</td>\n",
              "      <td>0.006820</td>\n",
              "    </tr>\n",
              "    <tr>\n",
              "      <th>11</th>\n",
              "      <td>5575</td>\n",
              "      <td>603</td>\n",
              "      <td>10.816143</td>\n",
              "      <td>11</td>\n",
              "      <td>0.004160</td>\n",
              "    </tr>\n",
              "    <tr>\n",
              "      <th>12</th>\n",
              "      <td>6868</td>\n",
              "      <td>659</td>\n",
              "      <td>9.595224</td>\n",
              "      <td>12</td>\n",
              "      <td>0.003554</td>\n",
              "    </tr>\n",
              "    <tr>\n",
              "      <th>13</th>\n",
              "      <td>1327</td>\n",
              "      <td>686</td>\n",
              "      <td>51.695554</td>\n",
              "      <td>13</td>\n",
              "      <td>0.013718</td>\n",
              "    </tr>\n",
              "    <tr>\n",
              "      <th>14</th>\n",
              "      <td>2772</td>\n",
              "      <td>777</td>\n",
              "      <td>28.030303</td>\n",
              "      <td>14</td>\n",
              "      <td>0.008531</td>\n",
              "    </tr>\n",
              "    <tr>\n",
              "      <th>15</th>\n",
              "      <td>30374</td>\n",
              "      <td>1157</td>\n",
              "      <td>3.809179</td>\n",
              "      <td>15</td>\n",
              "      <td>0.001098</td>\n",
              "    </tr>\n",
              "  </tbody>\n",
              "</table>\n",
              "</div>"
            ],
            "text/plain": [
              "       num_attempts  num_success        pro  level     error\n",
              "level                                                       \n",
              "1              1322          818  61.875946      1  0.013358\n",
              "2              1285          666  51.828794      2  0.013939\n",
              "3              1546          662  42.820181      3  0.012585\n",
              "4              1893          705  37.242472      4  0.011112\n",
              "5              6937          634   9.139397      5  0.003460\n",
              "6              1591          668  41.986172      6  0.012373\n",
              "7              4526          614  13.566063      7  0.005090\n",
              "8             15816          641   4.052858      8  0.001568\n",
              "9              8241          670   8.130081      9  0.003011\n",
              "10             3282          617  18.799512     10  0.006820\n",
              "11             5575          603  10.816143     11  0.004160\n",
              "12             6868          659   9.595224     12  0.003554\n",
              "13             1327          686  51.695554     13  0.013718\n",
              "14             2772          777  28.030303     14  0.008531\n",
              "15            30374         1157   3.809179     15  0.001098"
            ]
          },
          "metadata": {
            "tags": []
          },
          "execution_count": 16
        }
      ]
    },
    {
      "cell_type": "code",
      "metadata": {
        "id": "o32T1RL-auqY",
        "colab_type": "code",
        "outputId": "3706b2ce-5a39-467f-ccf2-ade7e8b5c9cc",
        "colab": {
          "base_uri": "https://localhost:8080/",
          "height": 295
        }
      },
      "source": [
        "import matplotlib.pyplot as plt\n",
        "plt.title('Winning Probability')\n",
        "plt.xlabel('Levels')\n",
        "plt.ylabel('Probability for Success')\n",
        "plt.hlines(10,0,15,colors='red',linestyles='dashed')\n",
        "plt.errorbar(df['level'],df['pro'],lolims=(df['pro']/100)-df['error'],yerr=True,uplims=(df['pro']/100)+df['error'])\n",
        "plt.show()"
      ],
      "execution_count": 31,
      "outputs": [
        {
          "output_type": "display_data",
          "data": {
            "image/png": "[encoded data removed]",
            "text/plain": [
              "<Figure size 432x288 with 1 Axes>"
            ]
          },
          "metadata": {
            "tags": [],
            "needs_background": "light"
          }
        }
      ]
    },
    {
      "cell_type": "code",
      "metadata": {
        "id": "_ypWhAV8bmqR",
        "colab_type": "code",
        "colab": {
          "base_uri": "https://localhost:8080/",
          "height": 34
        },
        "outputId": "6f95d4c8-d7f4-4e45-f5a4-085e06b4bc47"
      },
      "source": [
        "p_win=(df['pro']/100).prod()\n",
        "p_win"
      ],
      "execution_count": 33,
      "outputs": [
        {
          "output_type": "execute_result",
          "data": {
            "text/plain": [
              "9.44714093448606e-12"
            ]
          },
          "metadata": {
            "tags": []
          },
          "execution_count": 33
        }
      ]
    },
    {
      "cell_type": "markdown",
      "metadata": {
        "id": "Fd8zxCuNI404",
        "colab_type": "text"
      },
      "source": [
        "**Should our level designer worry that a lot of players will complete the episode in one attempt?**"
      ]
    },
    {
      "cell_type": "markdown",
      "metadata": {
        "id": "Z0VYA9upJHaB",
        "colab_type": "text"
      },
      "source": [
        "Seeing the p_win we can say that the level designers have been doing a great job."
      ]
    },
    {
      "cell_type": "code",
      "metadata": {
        "id": "UEADvn8jJQj0",
        "colab_type": "code",
        "colab": {
          "base_uri": "https://localhost:8080/",
          "height": 34
        },
        "outputId": "82dab16b-c26a-40db-b269-0e75483513ae"
      },
      "source": [
        "if p_win>50:\n",
        "  should_the_designer_worry=True\n",
        "else:\n",
        "  should_the_designer_worry=False\n",
        "print (should_the_designer_worry)"
      ],
      "execution_count": 35,
      "outputs": [
        {
          "output_type": "stream",
          "text": [
            "False\n"
          ],
          "name": "stdout"
        }
      ]
    }
  ]
}